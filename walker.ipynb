{
 "cells": [
  {
   "cell_type": "markdown",
   "id": "6edb1dbe-20ad-49d3-aabf-27a0438da7e0",
   "metadata": {},
   "source": [
    "# Imports"
   ]
  },
  {
   "cell_type": "code",
   "execution_count": 1,
   "id": "3b1d6d12-e770-47ce-a9eb-fb93b7a2b755",
   "metadata": {},
   "outputs": [
    {
     "name": "stderr",
     "output_type": "stream",
     "text": [
      "2024-05-07 11:48:40.964563: I tensorflow/core/platform/cpu_feature_guard.cc:193] This TensorFlow binary is optimized with oneAPI Deep Neural Network Library (oneDNN) to use the following CPU instructions in performance-critical operations:  AVX2 FMA\n",
      "To enable them in other operations, rebuild TensorFlow with the appropriate compiler flags.\n",
      "2024-05-07 11:48:41.830777: W tensorflow/compiler/xla/stream_executor/platform/default/dso_loader.cc:64] Could not load dynamic library 'libnvinfer.so.7'; dlerror: libnvinfer.so.7: cannot open shared object file: No such file or directory; LD_LIBRARY_PATH: :/home/ttekcor/anaconda3/envs/tf/lib/:/home/ttekcor/anaconda3/envs/tf/lib/\n",
      "2024-05-07 11:48:41.831056: W tensorflow/compiler/xla/stream_executor/platform/default/dso_loader.cc:64] Could not load dynamic library 'libnvinfer_plugin.so.7'; dlerror: libnvinfer_plugin.so.7: cannot open shared object file: No such file or directory; LD_LIBRARY_PATH: :/home/ttekcor/anaconda3/envs/tf/lib/:/home/ttekcor/anaconda3/envs/tf/lib/\n",
      "2024-05-07 11:48:41.831063: W tensorflow/compiler/tf2tensorrt/utils/py_utils.cc:38] TF-TRT Warning: Cannot dlopen some TensorRT libraries. If you would like to use Nvidia GPU with TensorRT, please make sure the missing libraries mentioned above are installed properly.\n"
     ]
    }
   ],
   "source": [
    "import numpy as np\n",
    "import gymnasium as gym\n",
    "import tensorflow as tf\n",
    "import tqdm.notebook as tqdm\n",
    "import matplotlib.pyplot as plt\n",
    "\n",
    "\n",
    "\n",
    "from gymnasium.utils.save_video import save_video"
   ]
  },
  {
   "cell_type": "code",
   "execution_count": 2,
   "id": "011e03a4-a0ea-4ce2-9f00-e09b9b4c2e04",
   "metadata": {},
   "outputs": [
    {
     "name": "stdout",
     "output_type": "stream",
     "text": [
      "[PhysicalDevice(name='/physical_device:GPU:0', device_type='GPU')]\n",
      "GPU enable\n"
     ]
    },
    {
     "name": "stderr",
     "output_type": "stream",
     "text": [
      "2024-05-07 11:48:45.096401: I tensorflow/compiler/xla/stream_executor/cuda/cuda_gpu_executor.cc:967] could not open file to read NUMA node: /sys/bus/pci/devices/0000:04:00.0/numa_node\n",
      "Your kernel may have been built without NUMA support.\n",
      "2024-05-07 11:48:45.122436: I tensorflow/compiler/xla/stream_executor/cuda/cuda_gpu_executor.cc:967] could not open file to read NUMA node: /sys/bus/pci/devices/0000:04:00.0/numa_node\n",
      "Your kernel may have been built without NUMA support.\n",
      "2024-05-07 11:48:45.122484: I tensorflow/compiler/xla/stream_executor/cuda/cuda_gpu_executor.cc:967] could not open file to read NUMA node: /sys/bus/pci/devices/0000:04:00.0/numa_node\n",
      "Your kernel may have been built without NUMA support.\n"
     ]
    }
   ],
   "source": [
    "gpus = tf.config.list_physical_devices('GPU')\n",
    "print(gpus)\n",
    "if gpus:\n",
    "    try:\n",
    "        tf.config.experimental.set_memory_growth(gpus[0], True)\n",
    "        print('GPU enable')\n",
    "    except Exception as e:\n",
    "        print(e)"
   ]
  },
  {
   "cell_type": "markdown",
   "id": "4e580a6f-a987-40ec-9864-2e296bdd9ba6",
   "metadata": {},
   "source": [
    "# Environment"
   ]
  },
  {
   "cell_type": "markdown",
   "id": "120abf50-431d-4c8c-bc71-e760aa7c08b4",
   "metadata": {},
   "source": [
    "Create the [environment](https://gymnasium.farama.org/environments/box2d/bipedal_walker/)."
   ]
  },
  {
   "cell_type": "code",
   "execution_count": 3,
   "id": "4c9241b5-510e-4a18-bcde-8bf3c5ac2b8f",
   "metadata": {},
   "outputs": [],
   "source": [
    "env = gym.make('BipedalWalker-v3', hardcore=False)\n",
    "eval_env = gym.make('BipedalWalker-v3', hardcore=False)"
   ]
  },
  {
   "cell_type": "markdown",
   "id": "6828a718-db96-42f6-890f-265163fdedb9",
   "metadata": {},
   "source": [
    "# Replay Buffer"
   ]
  },
  {
   "cell_type": "markdown",
   "id": "037a88e3-0524-4d4f-9bd5-eb035d80fece",
   "metadata": {},
   "source": [
    "Create a replay buffer to hold game history"
   ]
  },
  {
   "cell_type": "code",
   "execution_count": 4,
   "id": "4a761715-1ef6-4ffd-b710-1758f292888c",
   "metadata": {},
   "outputs": [],
   "source": [
    "class ReplayBuffer:\n",
    "\n",
    "    def __init__(self, max_size: int, observation_space: gym.spaces.Space, action_space: gym.spaces.Space, seed: int | None = None):\n",
    "        \"\"\"Stores the replay history with a maximum of `max_size` entries, removing old entries as needed.\n",
    "\n",
    "        Parameters:\n",
    "            max_size: maximal number of entries to keep\n",
    "            observation_space: specification of the observation space\n",
    "            action_space: specification of the action space\n",
    "            seed: seed to initialize the internal random number generator for reproducibility\"\"\"\n",
    "        self.max_size = max_size\n",
    "        self.done = np.zeros(max_size)\n",
    "        self.step = 0\n",
    "        self.rng = np.random.default_rng(seed=seed)\n",
    "        self.len = 0\n",
    "\n",
    "        self.current_state = np.zeros((max_size, *observation_space.shape))\n",
    "        self.action = np.zeros((max_size, *action_space.shape), dtype=int)\n",
    "        self.reward = np.zeros(max_size)\n",
    "        self.next_state = np.zeros((max_size, *observation_space.shape))\n",
    "        \n",
    "    def add(self, current_observation: np.ndarray, action: np.ndarray, reward: float, next_observation: np.ndarray, done: bool) -> None:\n",
    "        \"\"\"Add a new entry to the buffer.\n",
    "\n",
    "        Parameters:\n",
    "            current_observation: environment state observed at the current step\n",
    "            action: action taken by the model\n",
    "            reward: reward received after taking the action\n",
    "            next_observation: environment state obversed after taking the action\n",
    "            done: whether the episode has ended or not\"\"\"\n",
    "        self.current_state[self.step] = current_observation\n",
    "        self.action[self.step] = action\n",
    "        self.reward[self.step] = reward\n",
    "        self.next_state[self.step] = next_observation\n",
    "        self.done[self.step] = done\n",
    "        self.step = (self.step + 1) % self.max_size\n",
    "        self.len = min(self.len + 1, self.max_size)\n",
    "        \n",
    "    def sample(self, n_samples: int, replace: bool = True) -> tuple[np.ndarray, np.ndarray, np.ndarray, np.ndarray, np.ndarray]:\n",
    "        \"\"\"Randomly samples `n_samples` from the buffer.\n",
    "\n",
    "        Parameters:\n",
    "            n_samples: number of samples to select\n",
    "            replace: sample with or without replacement\n",
    "\n",
    "        Returns:\n",
    "            current observations, actions, rewards, next observations, done\"\"\"\n",
    "        indicies = self.rng.choice(self.len, size=n_samples, replace=replace)\n",
    "        return (\n",
    "            self.current_state[indicies], \n",
    "            self.action[indicies], \n",
    "            self.reward[indicies], \n",
    "            self.next_state[indicies], \n",
    "            self.done[indicies]\n",
    "        )\n",
    "\n",
    "    def clear(self) -> None:\n",
    "        \"\"\"Clears the buffer\"\"\"\n",
    "        self.step = self.len = 0\n",
    "\n",
    "    def __getitem__(self, index: int) -> tuple[np.ndarray, np.ndarray, np.ndarray, np.ndarray, np.ndarray]:\n",
    "        \"\"\"Gets a sample at `index`\n",
    "\n",
    "        Parameters:\n",
    "            index: index of the sample to get\n",
    "\n",
    "        Returns:\n",
    "            current observation, action, reward, next observation, done\"\"\"\n",
    "        return (\n",
    "            self.current_state[index], \n",
    "            self.action[index], \n",
    "            self.reward[index], \n",
    "            self.next_state[index], \n",
    "            self.done[index]\n",
    "        )\n",
    "        \n",
    "    def __len__(self) -> int:\n",
    "        \"\"\"Returns the number of entries in the buffer\"\"\"\n",
    "        return self.len"
   ]
  },
  {
   "cell_type": "markdown",
   "id": "669485c5-5787-4ffa-82f2-58f6f0acc151",
   "metadata": {},
   "source": [
    "# Model"
   ]
  },
  {
   "cell_type": "markdown",
   "id": "bc62c869-195b-4323-bdb4-dd53879455c9",
   "metadata": {},
   "source": [
    "Implement your model"
   ]
  },
  {
   "cell_type": "code",
   "execution_count": 5,
   "id": "a572a086-e9ce-4194-8809-54a8e05477d3",
   "metadata": {},
   "outputs": [],
   "source": [
    "def get_name(prefix: str | None = None, suffix: str | None = None, separator: str = '/') -> str | None:\n",
    "    return prefix and prefix + separator + suffix or suffix or None"
   ]
  },
  {
   "cell_type": "code",
   "execution_count": 6,
   "id": "025c3007",
   "metadata": {},
   "outputs": [],
   "source": [
    "def get_model(\n",
    "    input_features: tuple | int, \n",
    "    features: int,\n",
    "    out_features: tuple | int,\n",
    "    blocks: int, \n",
    "    activation: str | tf.keras.layers.Activation | None = 'silu',\n",
    "    dropout: float = 0.,\n",
    "    multiply_freq: int = 1,\n",
    "    kind_of_model: str | None = None,\n",
    "    name: str | None = None\n",
    ") -> tf.keras.Model:\n",
    "    if kind_of_model == 'policy':\n",
    "        inputs = x = tf.keras.layers.Input((input_features, ), name=get_name(name, 'input'))\n",
    "    else:\n",
    "        input1 = tf.keras.layers.Input((input_features, ), name=get_name(name, 'observation_input'))\n",
    "        input2 = tf.keras.layers.Input((4, ), name=get_name(name, 'action_input'))\n",
    "        x = tf.keras.layers.concatenate([input1, input2])\n",
    "        inputs = [input1, input2]\n",
    "\n",
    "    for i in range(blocks):\n",
    "        x = tf.keras.layers.Dense(features, activation=activation, name=get_name(name, f'dense_{i}'))(x)\n",
    "        if dropout > 0:\n",
    "            x = tf.keras.layers.Dropout(dropout, name=get_name(name, f'dropout_{i}'))(x)\n",
    "\n",
    "        if multiply_freq > 0 and (i + 1) % multiply_freq == 0:\n",
    "            features *= 2\n",
    "    if kind_of_model == 'policy':\n",
    "        x = tf.keras.layers.Dense(out_features, activation='tanh', name=get_name(name, 'prediction'))(x)\n",
    "    else:\n",
    "        x = tf.keras.layers.Dense(out_features, name=get_name(name, 'prediction'))(x)\n",
    "    return tf.keras.Model(inputs=inputs, outputs=x, name=name)"
   ]
  },
  {
   "cell_type": "markdown",
   "id": "2d2cc1a3-3e45-4aac-8936-d5d45cc256f1",
   "metadata": {},
   "source": [
    "# Play the game"
   ]
  },
  {
   "cell_type": "markdown",
   "id": "02aa11b5-0ca1-4bfb-91a0-33a4f8922ae9",
   "metadata": {},
   "source": [
    "Implement interacting with the environment and storing entries to the replay buffer"
   ]
  },
  {
   "cell_type": "code",
   "execution_count": 7,
   "id": "b333e6b3-853a-4cb7-aea3-8c501d0247d0",
   "metadata": {},
   "outputs": [],
   "source": [
    "def play_game(model: tf.keras.Model, buffer: ReplayBuffer | None, env: gym.Env, max_steps: int, observation: np.ndarray | None = None) -> np.ndarray:\n",
    "    \"\"\"Play game and record\n",
    "\n",
    "    Parameters:\n",
    "        model: the model to get actions with\n",
    "        buffer: replay buffer to store the entries to\n",
    "        env: environment to play\n",
    "        max_steps: maximal number of steps to perform\n",
    "        observation: the observation to resume from\n",
    "\n",
    "    Returns:\n",
    "        the last observation\"\"\"\n",
    "    if observation is None:\n",
    "        observation, _ = env.reset()\n",
    "\n",
    "    buffer = buffer if buffer is not None else ReplayBuffer(1)\n",
    "\n",
    "    for i in range(max_steps):\n",
    "        a = model(observation[None], training=False).numpy()[0] # Observe state `s` and select action `a`\n",
    "        \n",
    "        new_observation, score, done, terminated, _ = env.step(a) # Execute `a` in the environment\n",
    "        \n",
    "        buffer.add(observation, a, score, new_observation, done) # Store `(s, a, r, s', d)` in buffer\n",
    "\n",
    "        if done or terminated: # If `s'` is terminal, reset environment state\n",
    "            observation, _ = env.reset()\n",
    "            continue\n",
    "            \n",
    "        observation = new_observation\n",
    "\n",
    "    return observation"
   ]
  },
  {
   "cell_type": "markdown",
   "id": "971ad3a7-0487-49d3-9ca4-6b6bbc3fa450",
   "metadata": {},
   "source": [
    "# Loss"
   ]
  },
  {
   "cell_type": "code",
   "execution_count": 8,
   "id": "f9775cbc-77a8-4b02-ab0a-3fbb22b3e958",
   "metadata": {},
   "outputs": [],
   "source": [
    "def ddpg_loss(\n",
    "    current_observation: tf.Tensor, \n",
    "    action: tf.Tensor, \n",
    "    reward: tf.Tensor, \n",
    "    next_observation: tf.Tensor,\n",
    "    done: tf.Tensor,\n",
    "    q_model: tf.keras.Model,\n",
    "    policy_model: tf.keras.Model,\n",
    "    target_q_model: tf.keras.Model,\n",
    "    target_policy_model: tf.keras.Model,\n",
    "    gamma: float\n",
    ") -> tuple[tf.Tensor, tf.Tensor]:\n",
    "    \"\"\"Computes Deep Deterministic Policy Gradient.\n",
    "\n",
    "    Parameters:\n",
    "        current_observation: observations at the current time step\n",
    "        action: actions taken at the current time step\n",
    "        reward: rewards at the current time step\n",
    "        next_observation: observations at the next time step\n",
    "        done: whether the episode has ended or not\n",
    "        q_model: q-function model\n",
    "        policy_model: action prediction model\n",
    "        target_q_model: target q-function model\n",
    "        target_policy_model: target action prediction model\n",
    "        gamma: discount\n",
    "\n",
    "    Returns:\n",
    "        Computed losses for q-function and policy models\"\"\"\n",
    "    q_current = q_model((current_observation, action))\n",
    "    q_next = target_q_model((next_observation, target_policy_model(next_observation)))\n",
    "\n",
    "    q_ref = reward + gamma * (1. - done) * q_next\n",
    "    q_loss = tf.math.reduce_mean(tf.square(q_current - q_ref))\n",
    "\n",
    "    policy_loss = -tf.math.reduce_mean(q_model((current_observation, policy_model(current_observation))))\n",
    "\n",
    "    return q_loss, policy_loss"
   ]
  },
  {
   "cell_type": "markdown",
   "id": "78458a1f-054a-463a-934f-ac3f669c0e27",
   "metadata": {},
   "source": [
    "# Training"
   ]
  },
  {
   "cell_type": "markdown",
   "id": "3fb0aaa7-6ae5-45dc-9c52-04c474ec3ecc",
   "metadata": {},
   "source": [
    "Create models, replay buffers, optimizer. Implement training loop, show training progress and perform model evaluation once in a while"
   ]
  },
  {
   "cell_type": "code",
   "execution_count": 9,
   "id": "139138b8-f63c-4a2f-8793-4f96d25a353a",
   "metadata": {},
   "outputs": [
    {
     "name": "stderr",
     "output_type": "stream",
     "text": [
      "2024-05-07 11:49:28.776728: I tensorflow/core/platform/cpu_feature_guard.cc:193] This TensorFlow binary is optimized with oneAPI Deep Neural Network Library (oneDNN) to use the following CPU instructions in performance-critical operations:  AVX2 FMA\n",
      "To enable them in other operations, rebuild TensorFlow with the appropriate compiler flags.\n",
      "2024-05-07 11:49:28.778580: I tensorflow/compiler/xla/stream_executor/cuda/cuda_gpu_executor.cc:967] could not open file to read NUMA node: /sys/bus/pci/devices/0000:04:00.0/numa_node\n",
      "Your kernel may have been built without NUMA support.\n",
      "2024-05-07 11:49:28.778627: I tensorflow/compiler/xla/stream_executor/cuda/cuda_gpu_executor.cc:967] could not open file to read NUMA node: /sys/bus/pci/devices/0000:04:00.0/numa_node\n",
      "Your kernel may have been built without NUMA support.\n",
      "2024-05-07 11:49:28.778648: I tensorflow/compiler/xla/stream_executor/cuda/cuda_gpu_executor.cc:967] could not open file to read NUMA node: /sys/bus/pci/devices/0000:04:00.0/numa_node\n",
      "Your kernel may have been built without NUMA support.\n",
      "2024-05-07 11:49:29.702825: I tensorflow/compiler/xla/stream_executor/cuda/cuda_gpu_executor.cc:967] could not open file to read NUMA node: /sys/bus/pci/devices/0000:04:00.0/numa_node\n",
      "Your kernel may have been built without NUMA support.\n",
      "2024-05-07 11:49:29.702937: I tensorflow/compiler/xla/stream_executor/cuda/cuda_gpu_executor.cc:967] could not open file to read NUMA node: /sys/bus/pci/devices/0000:04:00.0/numa_node\n",
      "Your kernel may have been built without NUMA support.\n",
      "2024-05-07 11:49:29.702948: I tensorflow/core/common_runtime/gpu/gpu_device.cc:1700] Could not identify NUMA node of platform GPU id 0, defaulting to 0.  Your kernel may not have been built with NUMA support.\n",
      "2024-05-07 11:49:29.702979: I tensorflow/compiler/xla/stream_executor/cuda/cuda_gpu_executor.cc:967] could not open file to read NUMA node: /sys/bus/pci/devices/0000:04:00.0/numa_node\n",
      "Your kernel may have been built without NUMA support.\n",
      "2024-05-07 11:49:29.703097: I tensorflow/core/common_runtime/gpu/gpu_device.cc:1613] Created device /job:localhost/replica:0/task:0/device:GPU:0 with 7365 MB memory:  -> device: 0, name: NVIDIA GeForce RTX 3080, pci bus id: 0000:04:00.0, compute capability: 8.6\n"
     ]
    },
    {
     "name": "stdout",
     "output_type": "stream",
     "text": [
      "Model: \"walker\"\n",
      "__________________________________________________________________________________________________\n",
      " Layer (type)                   Output Shape         Param #     Connected to                     \n",
      "==================================================================================================\n",
      " walker/observation_input (Inpu  [(None, 24)]        0           []                               \n",
      " tLayer)                                                                                          \n",
      "                                                                                                  \n",
      " walker/action_input (InputLaye  [(None, 4)]         0           []                               \n",
      " r)                                                                                               \n",
      "                                                                                                  \n",
      " concatenate (Concatenate)      (None, 28)           0           ['walker/observation_input[0][0]'\n",
      "                                                                 , 'walker/action_input[0][0]']   \n",
      "                                                                                                  \n",
      " walker/dense_0 (Dense)         (None, 16)           464         ['concatenate[0][0]']            \n",
      "                                                                                                  \n",
      " walker/dropout_0 (Dropout)     (None, 16)           0           ['walker/dense_0[0][0]']         \n",
      "                                                                                                  \n",
      " walker/dense_1 (Dense)         (None, 16)           272         ['walker/dropout_0[0][0]']       \n",
      "                                                                                                  \n",
      " walker/dropout_1 (Dropout)     (None, 16)           0           ['walker/dense_1[0][0]']         \n",
      "                                                                                                  \n",
      " walker/dense_2 (Dense)         (None, 32)           544         ['walker/dropout_1[0][0]']       \n",
      "                                                                                                  \n",
      " walker/dropout_2 (Dropout)     (None, 32)           0           ['walker/dense_2[0][0]']         \n",
      "                                                                                                  \n",
      " walker/dense_3 (Dense)         (None, 32)           1056        ['walker/dropout_2[0][0]']       \n",
      "                                                                                                  \n",
      " walker/dropout_3 (Dropout)     (None, 32)           0           ['walker/dense_3[0][0]']         \n",
      "                                                                                                  \n",
      " walker/dense_4 (Dense)         (None, 64)           2112        ['walker/dropout_3[0][0]']       \n",
      "                                                                                                  \n",
      " walker/dropout_4 (Dropout)     (None, 64)           0           ['walker/dense_4[0][0]']         \n",
      "                                                                                                  \n",
      " walker/dense_5 (Dense)         (None, 64)           4160        ['walker/dropout_4[0][0]']       \n",
      "                                                                                                  \n",
      " walker/dropout_5 (Dropout)     (None, 64)           0           ['walker/dense_5[0][0]']         \n",
      "                                                                                                  \n",
      " walker/dense_6 (Dense)         (None, 128)          8320        ['walker/dropout_5[0][0]']       \n",
      "                                                                                                  \n",
      " walker/dropout_6 (Dropout)     (None, 128)          0           ['walker/dense_6[0][0]']         \n",
      "                                                                                                  \n",
      " walker/dense_7 (Dense)         (None, 128)          16512       ['walker/dropout_6[0][0]']       \n",
      "                                                                                                  \n",
      " walker/dropout_7 (Dropout)     (None, 128)          0           ['walker/dense_7[0][0]']         \n",
      "                                                                                                  \n",
      " walker/dense_8 (Dense)         (None, 256)          33024       ['walker/dropout_7[0][0]']       \n",
      "                                                                                                  \n",
      " walker/dropout_8 (Dropout)     (None, 256)          0           ['walker/dense_8[0][0]']         \n",
      "                                                                                                  \n",
      " walker/dense_9 (Dense)         (None, 256)          65792       ['walker/dropout_8[0][0]']       \n",
      "                                                                                                  \n",
      " walker/dropout_9 (Dropout)     (None, 256)          0           ['walker/dense_9[0][0]']         \n",
      "                                                                                                  \n",
      " walker/dense_10 (Dense)        (None, 512)          131584      ['walker/dropout_9[0][0]']       \n",
      "                                                                                                  \n",
      " walker/dropout_10 (Dropout)    (None, 512)          0           ['walker/dense_10[0][0]']        \n",
      "                                                                                                  \n",
      " walker/dense_11 (Dense)        (None, 512)          262656      ['walker/dropout_10[0][0]']      \n",
      "                                                                                                  \n",
      " walker/dropout_11 (Dropout)    (None, 512)          0           ['walker/dense_11[0][0]']        \n",
      "                                                                                                  \n",
      " walker/prediction (Dense)      (None, 1)            513         ['walker/dropout_11[0][0]']      \n",
      "                                                                                                  \n",
      "==================================================================================================\n",
      "Total params: 527,009\n",
      "Trainable params: 527,009\n",
      "Non-trainable params: 0\n",
      "__________________________________________________________________________________________________\n"
     ]
    }
   ],
   "source": [
    "model = get_model(24, 16, 1, 12, name='walker', dropout=0.1, multiply_freq=2, activation='swish')\n",
    "model.summary()"
   ]
  },
  {
   "cell_type": "code",
   "execution_count": 10,
   "id": "f5d9d794",
   "metadata": {},
   "outputs": [],
   "source": [
    "target_model = get_model(24, 16, 1, 12, name='target_walker', multiply_freq=2, activation='swish')\n",
    "target_model.trainable = False\n",
    "target_model.set_weights(model.get_weights())"
   ]
  },
  {
   "cell_type": "code",
   "execution_count": 11,
   "id": "f82a7f13",
   "metadata": {},
   "outputs": [
    {
     "name": "stdout",
     "output_type": "stream",
     "text": [
      "Model: \"policy_model\"\n",
      "_________________________________________________________________\n",
      " Layer (type)                Output Shape              Param #   \n",
      "=================================================================\n",
      " policy_model/input (InputLa  [(None, 24)]             0         \n",
      " yer)                                                            \n",
      "                                                                 \n",
      " policy_model/dense_0 (Dense  (None, 16)               400       \n",
      " )                                                               \n",
      "                                                                 \n",
      " policy_model/dense_1 (Dense  (None, 16)               272       \n",
      " )                                                               \n",
      "                                                                 \n",
      " policy_model/dense_2 (Dense  (None, 32)               544       \n",
      " )                                                               \n",
      "                                                                 \n",
      " policy_model/dense_3 (Dense  (None, 32)               1056      \n",
      " )                                                               \n",
      "                                                                 \n",
      " policy_model/dense_4 (Dense  (None, 64)               2112      \n",
      " )                                                               \n",
      "                                                                 \n",
      " policy_model/dense_5 (Dense  (None, 64)               4160      \n",
      " )                                                               \n",
      "                                                                 \n",
      " policy_model/dense_6 (Dense  (None, 128)              8320      \n",
      " )                                                               \n",
      "                                                                 \n",
      " policy_model/dense_7 (Dense  (None, 128)              16512     \n",
      " )                                                               \n",
      "                                                                 \n",
      " policy_model/dense_8 (Dense  (None, 256)              33024     \n",
      " )                                                               \n",
      "                                                                 \n",
      " policy_model/dense_9 (Dense  (None, 256)              65792     \n",
      " )                                                               \n",
      "                                                                 \n",
      " policy_model/prediction (De  (None, 4)                1028      \n",
      " nse)                                                            \n",
      "                                                                 \n",
      "=================================================================\n",
      "Total params: 133,220\n",
      "Trainable params: 133,220\n",
      "Non-trainable params: 0\n",
      "_________________________________________________________________\n"
     ]
    }
   ],
   "source": [
    "policy_model = get_model(24, 16, 4, 10, name='policy_model', multiply_freq=2, kind_of_model='policy') # Предсказывает действие по состоянию среды\n",
    "policy_model.summary()"
   ]
  },
  {
   "cell_type": "code",
   "execution_count": 12,
   "id": "787e12e8",
   "metadata": {},
   "outputs": [],
   "source": [
    "target_policy_model = get_model(24, 16, 4, 10, name='target_policy_model', multiply_freq=2, kind_of_model='policy')\n",
    "target_policy_model.trainable = False\n",
    "target_policy_model.set_weights(policy_model.get_weights())"
   ]
  },
  {
   "cell_type": "code",
   "execution_count": null,
   "id": "d4049e79",
   "metadata": {},
   "outputs": [],
   "source": []
  },
  {
   "cell_type": "code",
   "execution_count": 13,
   "id": "1dc75d26",
   "metadata": {},
   "outputs": [],
   "source": [
    "train_buffer = ReplayBuffer(10000, observation_space=env.observation_space, action_space=env.action_space)"
   ]
  },
  {
   "cell_type": "code",
   "execution_count": 14,
   "id": "a2eff362",
   "metadata": {},
   "outputs": [],
   "source": [
    "eval_buffer = ReplayBuffer(1000, observation_space=eval_env.observation_space, action_space=eval_env.action_space)"
   ]
  },
  {
   "cell_type": "code",
   "execution_count": 15,
   "id": "2c250ba8",
   "metadata": {},
   "outputs": [],
   "source": [
    "optimizer = tf.keras.optimizers.legacy.Adam(1e-4, clipnorm=5, decay=2e-5)"
   ]
  },
  {
   "cell_type": "code",
   "execution_count": null,
   "id": "7a9951a7",
   "metadata": {},
   "outputs": [],
   "source": []
  },
  {
   "cell_type": "code",
   "execution_count": 21,
   "id": "a1c708e3",
   "metadata": {},
   "outputs": [],
   "source": [
    "epochs = 10000\n",
    "save_loss_frequency = 100\n",
    "batch_size = 1024\n",
    "update_frequency = 128\n",
    "eval_frequency = 512\n",
    "steps_per_epoch = 32\n",
    "eval_steps = 1000\n",
    "initial_samples = 1000\n",
    "n_evals = 5\n",
    "eval_threshold = 400\n",
    "polyak = 0.707"
   ]
  },
  {
   "cell_type": "code",
   "execution_count": 23,
   "id": "f871b46d",
   "metadata": {},
   "outputs": [],
   "source": [
    "def mulpiply_weights(model: tf.keras.Model, target_model: tf.keras.Model, number: float | int) -> list[np.ndarray]:\n",
    "    return [number * target_weights + (1. - number) * model_weights for target_weights, model_weights in zip(target_model.get_weights(), model.get_weights())]"
   ]
  },
  {
   "cell_type": "code",
   "execution_count": 18,
   "id": "34cab830",
   "metadata": {},
   "outputs": [
    {
     "name": "stdout",
     "output_type": "stream",
     "text": [
      "2.11.1\n"
     ]
    }
   ],
   "source": [
    "print(tf.__version__)"
   ]
  },
  {
   "cell_type": "code",
   "execution_count": 19,
   "id": "cce4e6a2",
   "metadata": {},
   "outputs": [],
   "source": [
    "def apply_gradients(self, grads_and_vars, name=None):\n",
    "    return super().apply_gradients(grads_and_vars)"
   ]
  },
  {
   "cell_type": "code",
   "execution_count": 24,
   "id": "fefb8c9d",
   "metadata": {},
   "outputs": [
    {
     "data": {
      "application/vnd.jupyter.widget-view+json": {
       "model_id": "0aac80de77264b879f5aad72558cfee0",
       "version_major": 2,
       "version_minor": 0
      },
      "text/plain": [
       "  0%|          | 0/10000 [00:00<?, ?it/s]"
      ]
     },
     "metadata": {},
     "output_type": "display_data"
    }
   ],
   "source": [
    "q_losses = []\n",
    "p_losses = []\n",
    "total_q_loss = 0\n",
    "total_p_loss = 0\n",
    "eval_score = 0\n",
    "all_q_loss_saver = []\n",
    "all_p_loss_saver = []\n",
    "\n",
    "s, _ = env.reset()\n",
    "pbar = tqdm.trange(epochs)\n",
    "for i in pbar:\n",
    "    \n",
    "    s = play_game(policy_model, train_buffer, env, steps_per_epoch, observation=s) # Select action, play and store in buffer\n",
    "    \n",
    "    vals = train_buffer.sample(batch_size) # Randomly sample a batch of transitions\n",
    "\n",
    "\n",
    "    with tf.GradientTape(watch_accessed_variables=False) as q_g, tf.GradientTape(watch_accessed_variables=False) as p_g:\n",
    "        q_g.watch(model.trainable_weights)\n",
    "        p_g.watch(policy_model.trainable_weights)\n",
    "        q_loss, policy_loss = ddpg_loss(*vals, model, policy_model, target_model, target_policy_model, 0.99) # MSBE and mean score from Policy\n",
    "\n",
    "    q_gradient = q_g.gradient(q_loss, model.trainable_weights)\n",
    "    optimizer.apply_gradients(zip(q_gradient, model.trainable_weights))\n",
    "\n",
    "    p_gradient = p_g.gradient(policy_loss, policy_model.trainable_weights)\n",
    "    optimizer.apply_gradients(zip(p_gradient, policy_model.trainable_weights))\n",
    "    \n",
    "        \n",
    "    q_losses.append(q_loss.numpy())\n",
    "    p_losses.append(policy_loss.numpy())\n",
    "    \n",
    "    total_q_loss += q_losses[-1]\n",
    "    total_p_loss += p_losses[-1]\n",
    "\n",
    "    if (i + 1) % update_frequency == 0:\n",
    "        target_model.set_weights(mulpiply_weights(model, target_model, polyak))\n",
    "        target_policy_model.set_weights(mulpiply_weights(policy_model, target_policy_model, polyak))\n",
    "\n",
    "    if (i + 1) % eval_frequency == 0:\n",
    "        eval_score = 0\n",
    "\n",
    "        for i in range(n_evals):\n",
    "            eval_buffer.clear()\n",
    "            play_game(policy_model, eval_buffer, eval_env, eval_steps)\n",
    "            eval_score += eval_buffer.reward[:len(eval_buffer)].sum()\n",
    "\n",
    "        eval_score /= n_evals\n",
    "        if eval_score >= eval_threshold:\n",
    "            break\n",
    "    if (i + 1) % save_loss_frequency == 0:\n",
    "        all_q_loss_saver.append(total_q_loss / (i + 1))\n",
    "        all_p_loss_saver.append(total_p_loss / (i + 1))\n",
    "\n",
    "    pbar.set_description(f'Qloss: {q_losses[-1]:.5f}; AllQloss: {total_q_loss / (i + 1):.5f}; Ploss: {p_losses[-1]:.5f}; AllPloss: {total_p_loss / (i + 1):.5f}; E: {eval_score:.5f}')"
   ]
  },
  {
   "cell_type": "code",
   "execution_count": 25,
   "id": "85c440fd",
   "metadata": {},
   "outputs": [
    {
     "data": {
      "image/png": "[encoded data removed]",
      "text/plain": [
       "<Figure size 640x480 with 1 Axes>"
      ]
     },
     "metadata": {},
     "output_type": "display_data"
    }
   ],
   "source": [
    "plt.plot(list(range(len(all_q_loss_saver))), all_q_loss_saver, label='q loss')\n",
    "plt.plot(list(range(len(all_p_loss_saver))), all_p_loss_saver, label='p loss')\n",
    "plt.legend()\n",
    "plt.show()"
   ]
  },
  {
   "cell_type": "code",
   "execution_count": 26,
   "id": "27b8c6b5",
   "metadata": {},
   "outputs": [],
   "source": [
    "model.save_weights(f'./models/walker_model_{eval_score}')"
   ]
  },
  {
   "cell_type": "code",
   "execution_count": 27,
   "id": "56570f3b",
   "metadata": {},
   "outputs": [
    {
     "data": {
      "text/plain": [
       "-1261.17298518071"
      ]
     },
     "execution_count": 27,
     "metadata": {},
     "output_type": "execute_result"
    }
   ],
   "source": [
    "eval_score"
   ]
  },
  {
   "cell_type": "markdown",
   "id": "3bd5b44e-55cd-43bb-89dd-87c28cc10a9c",
   "metadata": {},
   "source": [
    "# Testing"
   ]
  },
  {
   "cell_type": "markdown",
   "id": "965e5731-8d24-4482-82ed-7226fb18fa5c",
   "metadata": {},
   "source": [
    "Test the model on the environment and get a cool video"
   ]
  },
  {
   "cell_type": "code",
   "execution_count": 56,
   "id": "72ec281c-d005-499a-b416-4d0e43437a0a",
   "metadata": {},
   "outputs": [],
   "source": [
    "def save_gameplay(model: tf.keras.Model, render_mode: str = 'rgb_array_list', n_frames: int = 1000, buffer_capacity: int = 1000):\n",
    "    env = gym.make('BipedalWalker-v3', hardcore=False, render_mode=render_mode)\n",
    "    buffer = ReplayBuffer(1000, env.observation_space, env.action_space)\n",
    "    \n",
    "    play_game(model, buffer, env, n_frames)\n",
    "    #if you wanna use this line change 'render_mode' -> 'rgb_array_list'\n",
    "    render = env.render()\n",
    "    return render,buffer"
   ]
  },
  {
   "cell_type": "code",
   "execution_count": 46,
   "id": "ec9bccad",
   "metadata": {},
   "outputs": [
    {
     "data": {
      "text/plain": [
       "<tensorflow.python.checkpoint.checkpoint.CheckpointLoadStatus at 0x7f89c33dee00>"
      ]
     },
     "execution_count": 46,
     "metadata": {},
     "output_type": "execute_result"
    }
   ],
   "source": [
    "model.load_weights(\"models/walker_model_-1261.17298518071\")"
   ]
  },
  {
   "cell_type": "code",
   "execution_count": 57,
   "id": "57e4ea04",
   "metadata": {},
   "outputs": [],
   "source": [
    "l,k = save_gameplay(policy_model)\n"
   ]
  },
  {
   "cell_type": "code",
   "execution_count": 58,
   "id": "b6adde3a",
   "metadata": {},
   "outputs": [
    {
     "name": "stdout",
     "output_type": "stream",
     "text": [
      "Moviepy - Building video /home/ttekcor/videos/rl-video-episode-0.mp4.\n",
      "Moviepy - Writing video /home/ttekcor/videos/rl-video-episode-0.mp4\n",
      "\n"
     ]
    },
    {
     "name": "stderr",
     "output_type": "stream",
     "text": [
      "                                                                \r"
     ]
    },
    {
     "name": "stdout",
     "output_type": "stream",
     "text": [
      "Moviepy - Done !\n",
      "Moviepy - video ready /home/ttekcor/videos/rl-video-episode-0.mp4\n"
     ]
    }
   ],
   "source": [
    "gym.utils.save_video.save_video(l, 'videos', durations=[1] * 1000, fps=24)"
   ]
  },
  {
   "cell_type": "code",
   "execution_count": null,
   "id": "6e13a563",
   "metadata": {},
   "outputs": [],
   "source": []
  },
  {
   "cell_type": "code",
   "execution_count": null,
   "id": "812a791d",
   "metadata": {},
   "outputs": [],
   "source": []
  },
  {
   "cell_type": "code",
   "execution_count": 49,
   "id": "916d5caa",
   "metadata": {},
   "outputs": [
    {
     "name": "stdout",
     "output_type": "stream",
     "text": [
      "/bin/bash: /home/ttekcor/anaconda3/envs/tf/lib/libtinfo.so.6: no version information available (required by /bin/bash)\n",
      "Requirement already satisfied: moviepy in ./anaconda3/envs/tf/lib/python3.10/site-packages (1.0.3)\n",
      "Requirement already satisfied: decorator<5.0,>=4.0.2 in ./anaconda3/envs/tf/lib/python3.10/site-packages (from moviepy) (4.4.2)\n",
      "Requirement already satisfied: tqdm<5.0,>=4.11.2 in ./anaconda3/envs/tf/lib/python3.10/site-packages (from moviepy) (4.66.4)\n",
      "Requirement already satisfied: requests<3.0,>=2.8.1 in ./.local/lib/python3.10/site-packages (from moviepy) (2.31.0)\n",
      "Requirement already satisfied: proglog<=1.0.0 in ./anaconda3/envs/tf/lib/python3.10/site-packages (from moviepy) (0.1.10)\n",
      "Requirement already satisfied: numpy>=1.17.3 in ./.local/lib/python3.10/site-packages (from moviepy) (1.26.4)\n",
      "Requirement already satisfied: imageio<3.0,>=2.5 in ./anaconda3/envs/tf/lib/python3.10/site-packages (from moviepy) (2.34.1)\n",
      "Requirement already satisfied: imageio-ffmpeg>=0.2.0 in ./anaconda3/envs/tf/lib/python3.10/site-packages (from moviepy) (0.4.9)\n",
      "Requirement already satisfied: pillow>=8.3.2 in ./anaconda3/envs/tf/lib/python3.10/site-packages (from imageio<3.0,>=2.5->moviepy) (10.3.0)\n",
      "Requirement already satisfied: setuptools in ./anaconda3/envs/tf/lib/python3.10/site-packages (from imageio-ffmpeg>=0.2.0->moviepy) (68.2.2)\n",
      "Requirement already satisfied: charset-normalizer<4,>=2 in ./.local/lib/python3.10/site-packages (from requests<3.0,>=2.8.1->moviepy) (3.3.2)\n",
      "Requirement already satisfied: idna<4,>=2.5 in ./.local/lib/python3.10/site-packages (from requests<3.0,>=2.8.1->moviepy) (3.7)\n",
      "Requirement already satisfied: urllib3<3,>=1.21.1 in ./.local/lib/python3.10/site-packages (from requests<3.0,>=2.8.1->moviepy) (2.2.1)\n",
      "Requirement already satisfied: certifi>=2017.4.17 in ./.local/lib/python3.10/site-packages (from requests<3.0,>=2.8.1->moviepy) (2024.2.2)\n",
      "/bin/bash: /home/ttekcor/anaconda3/envs/tf/lib/libtinfo.so.6: no version information available (required by /bin/bash)\n",
      "Requirement already satisfied: ffmpeg in ./anaconda3/envs/tf/lib/python3.10/site-packages (1.4)\n"
     ]
    }
   ],
   "source": [
    "!pip install moviepy --upgrade\n",
    "!pip install ffmpeg --upgrade\n"
   ]
  },
  {
   "cell_type": "code",
   "execution_count": 59,
   "id": "49e78353",
   "metadata": {},
   "outputs": [
    {
     "data": {
      "text/plain": [
       "-54.50095793136015"
      ]
     },
     "execution_count": 59,
     "metadata": {},
     "output_type": "execute_result"
    }
   ],
   "source": [
    "k.reward.sum()"
   ]
  }
 ],
 "metadata": {
  "kernelspec": {
   "display_name": "Python 3 (ipykernel)",
   "language": "python",
   "name": "python3"
  },
  "language_info": {
   "codemirror_mode": {
    "name": "ipython",
    "version": 3
   },
   "file_extension": ".py",
   "mimetype": "text/x-python",
   "name": "python",
   "nbconvert_exporter": "python",
   "pygments_lexer": "ipython3",
   "version": "3.10.14"
  }
 },
 "nbformat": 4,
 "nbformat_minor": 5
}
